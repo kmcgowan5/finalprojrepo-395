{
  "nbformat": 4,
  "nbformat_minor": 0,
  "metadata": {
    "colab": {
      "provenance": []
    },
    "kernelspec": {
      "name": "python3",
      "display_name": "Python 3"
    },
    "language_info": {
      "name": "python"
    }
  },
  "cells": [
    {
      "cell_type": "markdown",
      "source": [
        "# Import Libraries\n",
        "\n"
      ],
      "metadata": {
        "id": "5w1s7irErnHY"
      }
    },
    {
      "cell_type": "code",
      "source": [
        "import pandas as pd\n",
        "import numpy as np\n",
        "import requests\n",
        "import geopandas as gpd"
      ],
      "metadata": {
        "id": "h2x2oE9Yvwt0"
      },
      "execution_count": null,
      "outputs": []
    },
    {
      "cell_type": "markdown",
      "source": [
        "### Most New Yorkers try to avoid rats. NYC’s 'rat daddy' goes looking for them."
      ],
      "metadata": {
        "id": "D8iGqGuHv4rw"
      }
    },
    {
      "cell_type": "markdown",
      "source": [
        "1. Go to the New Data Portal: https://opendata.cityofnewyork.us/\n",
        "2. Find each dataset. 311 requests and Rat inspections.\n",
        "3. Add a data notes section to your github readme. This should include information about the source of your data, where it came from, how often it is updated, and the period of data it contains (e.g. 2010-present or 2012 to 2019)\n",
        "4. Lastly, test that this import works. This may take a while as the dataset is large."
      ],
      "metadata": {
        "id": "f6RMG5eHmSi4"
      }
    },
    {
      "cell_type": "code",
      "source": [
        "## This will take a while, you're import 2.5 million rows\n",
        "inspections = pd.read_csv(r'https://data.cityofnewyork.us/resource/p937-wjvj.csv?$limit=3000000')"
      ],
      "metadata": {
        "id": "udsq_pQtv4xP"
      },
      "execution_count": null,
      "outputs": []
    },
    {
      "cell_type": "code",
      "source": [
        "# query NYC 311 for complaint types with Rodent in the title\n",
        "query = \"https://data.cityofnewyork.us/resource/erm2-nwe9.csv?$query=\" +  requests.utils.quote(\"SELECT * WHERE complaint_type = 'Rodent' LIMIT 1000000\")"
      ],
      "metadata": {
        "id": "C1SBRD_iaCdY"
      },
      "execution_count": null,
      "outputs": []
    },
    {
      "cell_type": "code",
      "source": [
        "rat_requests  = pd.read_csv(query)"
      ],
      "metadata": {
        "colab": {
          "base_uri": "https://localhost:8080/"
        },
        "id": "HzCACFRLaTEy",
        "outputId": "7311e297-c749-4d94-af5d-22c4f460e554"
      },
      "execution_count": null,
      "outputs": [
        {
          "output_type": "stream",
          "name": "stderr",
          "text": [
            "<ipython-input-159-463f732bd118>:1: DtypeWarning: Columns (17,20) have mixed types. Specify dtype option on import or set low_memory=False.\n",
            "  rat_requests  = pd.read_csv(query)\n"
          ]
        }
      ]
    },
    {
      "cell_type": "markdown",
      "source": [],
      "metadata": {
        "id": "8ZB3cWVPX7m6"
      }
    }
  ]
}